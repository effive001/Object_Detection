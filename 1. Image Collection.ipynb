{
 "cells": [
  {
   "cell_type": "markdown",
   "metadata": {},
   "source": [
    "# 1. Import Dependencies"
   ]
  },
  {
   "cell_type": "code",
   "execution_count": 1,
   "metadata": {},
   "outputs": [
    {
     "name": "stdout",
     "output_type": "stream",
     "text": [
      "Requirement already satisfied: opencv-python in c:\\projects\\object detection\\new\\tfodcourse\\odm\\lib\\site-packages (4.5.2.52)\n",
      "Requirement already satisfied: numpy>=1.19.3 in c:\\projects\\object detection\\new\\tfodcourse\\odm\\lib\\site-packages (from opencv-python) (1.20.3)\n"
     ]
    }
   ],
   "source": [
    "!pip install opencv-python"
   ]
  },
  {
   "cell_type": "code",
   "execution_count": 2,
   "metadata": {},
   "outputs": [],
   "source": [
    "# Import opencv\n",
    "import cv2 \n",
    "\n",
    "# Import uuid\n",
    "import uuid\n",
    "\n",
    "# Import Operating System\n",
    "import os\n",
    "\n",
    "# Import time\n",
    "import time"
   ]
  },
  {
   "cell_type": "markdown",
   "metadata": {},
   "source": [
    "# 2. Define Images to Collect"
   ]
  },
  {
   "cell_type": "code",
   "execution_count": 2,
   "metadata": {},
   "outputs": [],
   "source": [
    "labels = ['thumbsup', 'thumbsdown']\n",
    "number_imgs = 6"
   ]
  },
  {
   "cell_type": "markdown",
   "metadata": {},
   "source": [
    "# 3. Setup Folders "
   ]
  },
  {
   "cell_type": "code",
   "execution_count": 3,
   "metadata": {},
   "outputs": [],
   "source": [
    "IMAGES_PATH = os.path.join('Tensorflow', 'workspace', 'images', 'collectedimages')"
   ]
  },
  {
   "cell_type": "code",
   "execution_count": 4,
   "metadata": {},
   "outputs": [],
   "source": [
    "if not os.path.exists(IMAGES_PATH):\n",
    "    if os.name == 'posix':\n",
    "        !mkdir -p {IMAGES_PATH}\n",
    "    if os.name == 'nt':\n",
    "         !mkdir {IMAGES_PATH}\n",
    "for label in labels:\n",
    "    path = os.path.join(IMAGES_PATH, label)\n",
    "    if not os.path.exists(path):\n",
    "        !mkdir {path}"
   ]
  },
  {
   "cell_type": "markdown",
   "metadata": {},
   "source": [
    "# 4. Capture Images"
   ]
  },
  {
   "cell_type": "code",
   "execution_count": 6,
   "metadata": {},
   "outputs": [
    {
     "name": "stdout",
     "output_type": "stream",
     "text": [
      "Collecting images for thumbsup\n",
      "Collecting image 0\n",
      "Collecting image 1\n",
      "Collecting image 2\n",
      "Collecting image 3\n",
      "Collecting image 4\n",
      "Collecting image 5\n",
      "Collecting images for thumbsdown\n",
      "Collecting image 0\n",
      "Collecting image 1\n",
      "Collecting image 2\n",
      "Collecting image 3\n",
      "Collecting image 4\n",
      "Collecting image 5\n"
     ]
    }
   ],
   "source": [
    "for label in labels:\n",
    "    cap = cv2.VideoCapture(0)\n",
    "    print('Collecting images for {}'.format(label))\n",
    "    time.sleep(5)\n",
    "    for imgnum in range(number_imgs):\n",
    "        print('Collecting image {}'.format(imgnum))\n",
    "        ret, frame = cap.read()\n",
    "        imgname = os.path.join(IMAGES_PATH,label,label+'.'+'{}.jpg'.format(str(uuid.uuid1())))\n",
    "        cv2.imwrite(imgname, frame)\n",
    "        cv2.imshow('frame', frame)\n",
    "        time.sleep(2)\n",
    "\n",
    "        if cv2.waitKey(1) & 0xFF == ord('q'):\n",
    "            break\n",
    "cap.release()\n",
    "cv2.destroyAllWindows()"
   ]
  },
  {
   "cell_type": "markdown",
   "metadata": {},
   "source": [
    "# 5. Image Labelling"
   ]
  },
  {
   "cell_type": "code",
   "execution_count": null,
   "metadata": {},
   "outputs": [],
   "source": [
    "!pip install --upgrade pyqt5 lxml"
   ]
  },
  {
   "cell_type": "code",
   "execution_count": 2,
   "metadata": {},
   "outputs": [
    {
     "name": "stdout",
     "output_type": "stream",
     "text": [
      "Package           Version\n",
      "----------------- --------\n",
      "backcall          0.2.0\n",
      "colorama          0.4.4\n",
      "decorator         5.0.9\n",
      "ipykernel         5.5.5\n",
      "ipython           7.24.0\n",
      "ipython-genutils  0.2.0\n",
      "jedi              0.18.0\n",
      "jupyter-client    6.1.12\n",
      "jupyter-core      4.7.1\n",
      "lxml              4.6.3\n",
      "matplotlib-inline 0.1.2\n",
      "numpy             1.20.3\n",
      "opencv-python     4.5.2.52\n",
      "parso             0.8.2\n",
      "pickleshare       0.7.5\n",
      "pip               21.1.2\n",
      "prompt-toolkit    3.0.18\n",
      "Pygments          2.9.0\n",
      "PyQt5             5.15.4\n",
      "PyQt5-Qt5         5.15.2\n",
      "PyQt5-sip         12.9.0\n",
      "python-dateutil   2.8.1\n",
      "pywin32           300\n",
      "pyzmq             22.1.0\n",
      "setuptools        56.0.0\n",
      "six               1.16.0\n",
      "tornado           6.1\n",
      "traitlets         5.0.5\n",
      "wcwidth           0.2.5\n"
     ]
    }
   ],
   "source": [
    "!pip list"
   ]
  },
  {
   "cell_type": "code",
   "execution_count": 8,
   "metadata": {},
   "outputs": [],
   "source": [
    "LABELIMG_PATH = os.path.join('Tensorflow', 'labelimg')"
   ]
  },
  {
   "cell_type": "code",
   "execution_count": 7,
   "metadata": {},
   "outputs": [
    {
     "name": "stderr",
     "output_type": "stream",
     "text": [
      "Cloning into 'Tensorflow\\labelimg'...\n"
     ]
    }
   ],
   "source": [
    "if not os.path.exists(LABELIMG_PATH):\n",
    "    !mkdir {LABELIMG_PATH}\n",
    "    !git clone https://github.com/tzutalin/labelImg {LABELIMG_PATH}"
   ]
  },
  {
   "cell_type": "code",
   "execution_count": 8,
   "metadata": {},
   "outputs": [],
   "source": [
    "if os.name == 'posix':\n",
    "    !cd {LABELIMG_PATH} && make qt5py3\n",
    "if os.name =='nt':\n",
    "    !cd {LABELIMG_PATH} && pyrcc5 -o libs/resources.py resources.qrc"
   ]
  },
  {
   "cell_type": "code",
   "execution_count": 9,
   "metadata": {},
   "outputs": [
    {
     "name": "stdout",
     "output_type": "stream",
     "text": [
      "Image:C:\\Projects\\Object Detection\\new\\TFODCourse\\Tensorflow\\workspace\\images\\collectedimages\\thumbsdown\\thumbsdown.00b999c3-c851-11eb-ad2c-5c879c702140.jpg -> Annotation:C:/Projects/Object Detection/new/TFODCourse/Tensorflow/workspace/images/collectedimages/thumbsdown/thumbsdown.00b999c3-c851-11eb-ad2c-5c879c702140.xml"
     ]
    },
    {
     "name": "stderr",
     "output_type": "stream",
     "text": [
      "C:\\Projects\\Object Detection\\new\\TFODCourse\\Tensorflow\\labelimg\\labelImg.py:965: DeprecationWarning: an integer is required (got type float).  Implicit conversion to integers using __int__ is deprecated, and may be removed in a future version of Python.\n",
      "  bar.setValue(bar.value() + bar.singleStep() * units)\n"
     ]
    },
    {
     "name": "stdout",
     "output_type": "stream",
     "text": [
      "\n",
      "Image:C:\\Projects\\Object Detection\\new\\TFODCourse\\Tensorflow\\workspace\\images\\collectedimages\\thumbsdown\\thumbsdown.01f08561-c851-11eb-8d19-5c879c702140.jpg -> Annotation:C:/Projects/Object Detection/new/TFODCourse/Tensorflow/workspace/images/collectedimages/thumbsdown/thumbsdown.01f08561-c851-11eb-8d19-5c879c702140.xml\n",
      "Image:C:\\Projects\\Object Detection\\new\\TFODCourse\\Tensorflow\\workspace\\images\\collectedimages\\thumbsdown\\thumbsdown.94b9a516-c850-11eb-9209-5c879c702140.jpg -> Annotation:C:/Projects/Object Detection/new/TFODCourse/Tensorflow/workspace/images/collectedimages/thumbsdown/thumbsdown.94b9a516-c850-11eb-9209-5c879c702140.xml\n",
      "Image:C:\\Projects\\Object Detection\\new\\TFODCourse\\Tensorflow\\workspace\\images\\collectedimages\\thumbsdown\\thumbsdown.95ef145d-c850-11eb-9a20-5c879c702140.jpg -> Annotation:C:/Projects/Object Detection/new/TFODCourse/Tensorflow/workspace/images/collectedimages/thumbsdown/thumbsdown.95ef145d-c850-11eb-9a20-5c879c702140.xml\n",
      "Image:C:\\Projects\\Object Detection\\new\\TFODCourse\\Tensorflow\\workspace\\images\\collectedimages\\thumbsdown\\thumbsdown.985b099e-c850-11eb-9fa1-5c879c702140.jpg -> Annotation:C:/Projects/Object Detection/new/TFODCourse/Tensorflow/workspace/images/collectedimages/thumbsdown/thumbsdown.985b099e-c850-11eb-9fa1-5c879c702140.xml\n",
      "Image:C:\\Projects\\Object Detection\\new\\TFODCourse\\Tensorflow\\workspace\\images\\collectedimages\\thumbsdown\\thumbsdown.03262da9-c851-11eb-ab40-5c879c702140.jpg -> Annotation:C:/Projects/Object Detection/new/TFODCourse/Tensorflow/workspace/images/collectedimages/thumbsdown/thumbsdown.03262da9-c851-11eb-ab40-5c879c702140.xml\n",
      "Image:C:\\Projects\\Object Detection\\new\\TFODCourse\\Tensorflow\\workspace\\images\\collectedimages\\thumbsdown\\thumbsdown.97244c6f-c850-11eb-9882-5c879c702140.jpg -> Annotation:C:/Projects/Object Detection/new/TFODCourse/Tensorflow/workspace/images/collectedimages/thumbsdown/thumbsdown.97244c6f-c850-11eb-9882-5c879c702140.xml\n",
      "Image:C:\\Projects\\Object Detection\\new\\TFODCourse\\Tensorflow\\workspace\\images\\collectedimages\\thumbsdown\\thumbsdown.fd19efae-c850-11eb-9c87-5c879c702140.jpg -> Annotation:C:/Projects/Object Detection/new/TFODCourse/Tensorflow/workspace/images/collectedimages/thumbsdown/thumbsdown.fd19efae-c850-11eb-9c87-5c879c702140.xml\n",
      "Image:C:\\Projects\\Object Detection\\new\\TFODCourse\\Tensorflow\\workspace\\images\\collectedimages\\thumbsdown\\thumbsdown.fe50e114-c850-11eb-8ea4-5c879c702140.jpg -> Annotation:C:/Projects/Object Detection/new/TFODCourse/Tensorflow/workspace/images/collectedimages/thumbsdown/thumbsdown.fe50e114-c850-11eb-8ea4-5c879c702140.xml\n",
      "Image:C:\\Projects\\Object Detection\\new\\TFODCourse\\Tensorflow\\workspace\\images\\collectedimages\\thumbsdown\\thumbsdown.ff862c77-c850-11eb-807f-5c879c702140.jpg -> Annotation:C:/Projects/Object Detection/new/TFODCourse/Tensorflow/workspace/images/collectedimages/thumbsdown/thumbsdown.ff862c77-c850-11eb-807f-5c879c702140.xml\n",
      "Image:C:\\Projects\\Object Detection\\new\\TFODCourse\\Tensorflow\\workspace\\images\\collectedimages\\thumbsup\\thumbsup.8ac91db1-c850-11eb-b6b2-5c879c702140.jpg -> Annotation:C:/Projects/Object Detection/new/TFODCourse/Tensorflow/workspace/images/collectedimages/thumbsup/thumbsup.8ac91db1-c850-11eb-b6b2-5c879c702140.xml\n",
      "Image:C:\\Projects\\Object Detection\\new\\TFODCourse\\Tensorflow\\workspace\\images\\collectedimages\\thumbsup\\thumbsup.8ac91db1-c850-11eb-b6b2-5c879c702140.jpg -> Annotation:C:/Projects/Object Detection/new/TFODCourse/Tensorflow/workspace/images/collectedimages/thumbsup/thumbsup.8ac91db1-c850-11eb-b6b2-5c879c702140.xml\n",
      "Cancel creation.\n",
      "Cancel creation.\n",
      "Cancel creation.\n",
      "Cancel creation.\n",
      "Image:C:\\Projects\\Object Detection\\new\\TFODCourse\\Tensorflow\\workspace\\images\\collectedimages\\thumbsup\\thumbsup.8bfefbb3-c850-11eb-bb9c-5c879c702140.jpg -> Annotation:C:/Projects/Object Detection/new/TFODCourse/Tensorflow/workspace/images/collectedimages/thumbsup/thumbsup.8bfefbb3-c850-11eb-bb9c-5c879c702140.xml\n",
      "Image:C:\\Projects\\Object Detection\\new\\TFODCourse\\Tensorflow\\workspace\\images\\collectedimages\\thumbsup\\thumbsup.8d35ee83-c850-11eb-bb9f-5c879c702140.jpg -> Annotation:C:/Projects/Object Detection/new/TFODCourse/Tensorflow/workspace/images/collectedimages/thumbsup/thumbsup.8d35ee83-c850-11eb-bb9f-5c879c702140.xml\n",
      "Cancel creation.\n",
      "Image:C:\\Projects\\Object Detection\\new\\TFODCourse\\Tensorflow\\workspace\\images\\collectedimages\\thumbsup\\thumbsup.885c785d-c850-11eb-ab9e-5c879c702140.jpg -> Annotation:C:/Projects/Object Detection/new/TFODCourse/Tensorflow/workspace/images/collectedimages/thumbsup/thumbsup.885c785d-c850-11eb-ab9e-5c879c702140.xml\n",
      "Cancel creation.\n",
      "Image:C:\\Projects\\Object Detection\\new\\TFODCourse\\Tensorflow\\workspace\\images\\collectedimages\\thumbsup\\thumbsup.89935e6f-c850-11eb-812a-5c879c702140.jpg -> Annotation:C:/Projects/Object Detection/new/TFODCourse/Tensorflow/workspace/images/collectedimages/thumbsup/thumbsup.89935e6f-c850-11eb-812a-5c879c702140.xml\n",
      "Image:C:\\Projects\\Object Detection\\new\\TFODCourse\\Tensorflow\\workspace\\images\\collectedimages\\thumbsup\\thumbsup.f1f28497-c850-11eb-8197-5c879c702140.jpg -> Annotation:C:/Projects/Object Detection/new/TFODCourse/Tensorflow/workspace/images/collectedimages/thumbsup/thumbsup.f1f28497-c850-11eb-8197-5c879c702140.xml\n",
      "Image:C:\\Projects\\Object Detection\\new\\TFODCourse\\Tensorflow\\workspace\\images\\collectedimages\\thumbsup\\thumbsup.f6cd4cc0-c850-11eb-b8c2-5c879c702140.jpg -> Annotation:C:/Projects/Object Detection/new/TFODCourse/Tensorflow/workspace/images/collectedimages/thumbsup/thumbsup.f6cd4cc0-c850-11eb-b8c2-5c879c702140.xml\n",
      "Image:C:\\Projects\\Object Detection\\new\\TFODCourse\\Tensorflow\\workspace\\images\\collectedimages\\thumbsup\\thumbsup.f5972ad6-c850-11eb-8e89-5c879c702140.jpg -> Annotation:C:/Projects/Object Detection/new/TFODCourse/Tensorflow/workspace/images/collectedimages/thumbsup/thumbsup.f5972ad6-c850-11eb-8e89-5c879c702140.xml\n",
      "Image:C:\\Projects\\Object Detection\\new\\TFODCourse\\Tensorflow\\workspace\\images\\collectedimages\\thumbsup\\thumbsup.f8025af6-c850-11eb-a52b-5c879c702140.jpg -> Annotation:C:/Projects/Object Detection/new/TFODCourse/Tensorflow/workspace/images/collectedimages/thumbsup/thumbsup.f8025af6-c850-11eb-a52b-5c879c702140.xml\n",
      "Image:C:\\Projects\\Object Detection\\new\\TFODCourse\\Tensorflow\\workspace\\images\\collectedimages\\thumbsup\\thumbsup.f3298974-c850-11eb-a669-5c879c702140.jpg -> Annotation:C:/Projects/Object Detection/new/TFODCourse/Tensorflow/workspace/images/collectedimages/thumbsup/thumbsup.f3298974-c850-11eb-a669-5c879c702140.xml\n",
      "Image:C:\\Projects\\Object Detection\\new\\TFODCourse\\Tensorflow\\workspace\\images\\collectedimages\\thumbsup\\thumbsup.f4609049-c850-11eb-a5bd-5c879c702140.jpg -> Annotation:C:/Projects/Object Detection/new/TFODCourse/Tensorflow/workspace/images/collectedimages/thumbsup/thumbsup.f4609049-c850-11eb-a5bd-5c879c702140.xml\n"
     ]
    }
   ],
   "source": [
    "!cd {LABELIMG_PATH} && python labelImg.py"
   ]
  },
  {
   "cell_type": "markdown",
   "metadata": {},
   "source": [
    "# 6. Move them into a Training and Testing Partition"
   ]
  },
  {
   "cell_type": "markdown",
   "metadata": {},
   "source": [
    "# OPTIONAL - 7. Compress them for Colab Training"
   ]
  },
  {
   "cell_type": "code",
   "execution_count": 3,
   "metadata": {},
   "outputs": [],
   "source": [
    "TRAIN_PATH = os.path.join('Tensorflow', 'workspace', 'images', 'train')\n",
    "TEST_PATH = os.path.join('Tensorflow', 'workspace', 'images', 'test')\n",
    "ARCHIVE_PATH = os.path.join('Tensorflow', 'workspace', 'images', 'archive.tar.gz')"
   ]
  },
  {
   "cell_type": "code",
   "execution_count": 4,
   "metadata": {},
   "outputs": [],
   "source": [
    "!tar -czf {ARCHIVE_PATH} {TRAIN_PATH} {TEST_PATH}"
   ]
  },
  {
   "cell_type": "code",
   "execution_count": null,
   "metadata": {},
   "outputs": [],
   "source": []
  }
 ],
 "metadata": {
  "kernelspec": {
   "display_name": "odm",
   "language": "python",
   "name": "odm"
  },
  "language_info": {
   "codemirror_mode": {
    "name": "ipython",
    "version": 3
   },
   "file_extension": ".py",
   "mimetype": "text/x-python",
   "name": "python",
   "nbconvert_exporter": "python",
   "pygments_lexer": "ipython3",
   "version": "3.9.5"
  }
 },
 "nbformat": 4,
 "nbformat_minor": 2
}
